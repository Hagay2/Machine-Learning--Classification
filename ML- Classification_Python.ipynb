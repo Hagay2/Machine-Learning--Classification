{
 "cells": [
  {
   "cell_type": "code",
   "execution_count": 301,
   "id": "d6b3fb16-9fc1-431d-aa21-326aaf3f611a",
   "metadata": {},
   "outputs": [],
   "source": [
    "#Using pandas for loading the csv file into a dataframe\n",
    "import pandas as pd\n",
    "\n",
    "#Using matplotlib library for basic graph plotting\n",
    "import matplotlib.pyplot as plt\n",
    "\n",
    "#Using seaborn library that allows us to optimize matplotlib's output\n",
    "import seaborn as sns\n",
    "\n",
    "import matplotlib.pyplot as plt\n",
    "\n",
    "import numpy as np"
   ]
  },
  {
   "cell_type": "code",
   "execution_count": 302,
   "id": "5aa18fa0-6ec7-4727-a0f1-76007c2cbe03",
   "metadata": {},
   "outputs": [
    {
     "data": {
      "text/html": [
       "<div>\n",
       "<style scoped>\n",
       "    .dataframe tbody tr th:only-of-type {\n",
       "        vertical-align: middle;\n",
       "    }\n",
       "\n",
       "    .dataframe tbody tr th {\n",
       "        vertical-align: top;\n",
       "    }\n",
       "\n",
       "    .dataframe thead th {\n",
       "        text-align: right;\n",
       "    }\n",
       "</style>\n",
       "<table border=\"1\" class=\"dataframe\">\n",
       "  <thead>\n",
       "    <tr style=\"text-align: right;\">\n",
       "      <th></th>\n",
       "      <th>Gender</th>\n",
       "      <th>Age</th>\n",
       "      <th>Debt</th>\n",
       "      <th>Married</th>\n",
       "      <th>BankCustomer</th>\n",
       "      <th>Industry</th>\n",
       "      <th>Ethnicity</th>\n",
       "      <th>YearsEmployed</th>\n",
       "      <th>PriorDefault</th>\n",
       "      <th>Employed</th>\n",
       "      <th>CreditScore</th>\n",
       "      <th>DriversLicense</th>\n",
       "      <th>Citizen</th>\n",
       "      <th>ZipCode</th>\n",
       "      <th>Income</th>\n",
       "      <th>Approved</th>\n",
       "    </tr>\n",
       "  </thead>\n",
       "  <tbody>\n",
       "    <tr>\n",
       "      <th>0</th>\n",
       "      <td>1</td>\n",
       "      <td>30.83</td>\n",
       "      <td>0.000</td>\n",
       "      <td>1</td>\n",
       "      <td>1</td>\n",
       "      <td>Industrials</td>\n",
       "      <td>White</td>\n",
       "      <td>1.25</td>\n",
       "      <td>1</td>\n",
       "      <td>1</td>\n",
       "      <td>1</td>\n",
       "      <td>0</td>\n",
       "      <td>ByBirth</td>\n",
       "      <td>202</td>\n",
       "      <td>0</td>\n",
       "      <td>1</td>\n",
       "    </tr>\n",
       "    <tr>\n",
       "      <th>1</th>\n",
       "      <td>0</td>\n",
       "      <td>58.67</td>\n",
       "      <td>4.460</td>\n",
       "      <td>1</td>\n",
       "      <td>1</td>\n",
       "      <td>Materials</td>\n",
       "      <td>Black</td>\n",
       "      <td>3.04</td>\n",
       "      <td>1</td>\n",
       "      <td>1</td>\n",
       "      <td>6</td>\n",
       "      <td>0</td>\n",
       "      <td>ByBirth</td>\n",
       "      <td>43</td>\n",
       "      <td>560</td>\n",
       "      <td>1</td>\n",
       "    </tr>\n",
       "    <tr>\n",
       "      <th>2</th>\n",
       "      <td>0</td>\n",
       "      <td>24.50</td>\n",
       "      <td>0.500</td>\n",
       "      <td>1</td>\n",
       "      <td>1</td>\n",
       "      <td>Materials</td>\n",
       "      <td>Black</td>\n",
       "      <td>1.50</td>\n",
       "      <td>1</td>\n",
       "      <td>0</td>\n",
       "      <td>0</td>\n",
       "      <td>0</td>\n",
       "      <td>ByBirth</td>\n",
       "      <td>280</td>\n",
       "      <td>824</td>\n",
       "      <td>1</td>\n",
       "    </tr>\n",
       "    <tr>\n",
       "      <th>3</th>\n",
       "      <td>1</td>\n",
       "      <td>27.83</td>\n",
       "      <td>1.540</td>\n",
       "      <td>1</td>\n",
       "      <td>1</td>\n",
       "      <td>Industrials</td>\n",
       "      <td>White</td>\n",
       "      <td>3.75</td>\n",
       "      <td>1</td>\n",
       "      <td>1</td>\n",
       "      <td>5</td>\n",
       "      <td>1</td>\n",
       "      <td>ByBirth</td>\n",
       "      <td>100</td>\n",
       "      <td>3</td>\n",
       "      <td>1</td>\n",
       "    </tr>\n",
       "    <tr>\n",
       "      <th>4</th>\n",
       "      <td>1</td>\n",
       "      <td>20.17</td>\n",
       "      <td>5.625</td>\n",
       "      <td>1</td>\n",
       "      <td>1</td>\n",
       "      <td>Industrials</td>\n",
       "      <td>White</td>\n",
       "      <td>1.71</td>\n",
       "      <td>1</td>\n",
       "      <td>0</td>\n",
       "      <td>0</td>\n",
       "      <td>0</td>\n",
       "      <td>ByOtherMeans</td>\n",
       "      <td>120</td>\n",
       "      <td>0</td>\n",
       "      <td>1</td>\n",
       "    </tr>\n",
       "  </tbody>\n",
       "</table>\n",
       "</div>"
      ],
      "text/plain": [
       "   Gender    Age   Debt  Married  BankCustomer     Industry Ethnicity  \\\n",
       "0       1  30.83  0.000        1             1  Industrials     White   \n",
       "1       0  58.67  4.460        1             1    Materials     Black   \n",
       "2       0  24.50  0.500        1             1    Materials     Black   \n",
       "3       1  27.83  1.540        1             1  Industrials     White   \n",
       "4       1  20.17  5.625        1             1  Industrials     White   \n",
       "\n",
       "   YearsEmployed  PriorDefault  Employed  CreditScore  DriversLicense  \\\n",
       "0           1.25             1         1            1               0   \n",
       "1           3.04             1         1            6               0   \n",
       "2           1.50             1         0            0               0   \n",
       "3           3.75             1         1            5               1   \n",
       "4           1.71             1         0            0               0   \n",
       "\n",
       "        Citizen  ZipCode  Income  Approved  \n",
       "0       ByBirth      202       0         1  \n",
       "1       ByBirth       43     560         1  \n",
       "2       ByBirth      280     824         1  \n",
       "3       ByBirth      100       3         1  \n",
       "4  ByOtherMeans      120       0         1  "
      ]
     },
     "execution_count": 302,
     "metadata": {},
     "output_type": "execute_result"
    }
   ],
   "source": [
    "credit = pd.read_csv('clean_dataset.csv')\n",
    "credit.head(5)"
   ]
  },
  {
   "cell_type": "code",
   "execution_count": 303,
   "id": "7109b907-1b9a-4664-8507-d244bd889eb0",
   "metadata": {},
   "outputs": [
    {
     "data": {
      "text/plain": [
       "<AxesSubplot:xlabel='Approved', ylabel='count'>"
      ]
     },
     "execution_count": 303,
     "metadata": {},
     "output_type": "execute_result"
    },
    {
     "data": {
      "image/png": "[encoded data removed]",
      "text/plain": [
       "<Figure size 1440x216 with 1 Axes>"
      ]
     },
     "metadata": {},
     "output_type": "display_data"
    }
   ],
   "source": [
    "#Generating 5 data visualizations\n",
    "sns.countplot(x='Approved', data = credit)"
   ]
  },
  {
   "cell_type": "code",
   "execution_count": 304,
   "id": "32f99a7d-4ba0-4155-8352-3feedf415703",
   "metadata": {},
   "outputs": [
    {
     "data": {
      "text/plain": [
       "<AxesSubplot:xlabel='Approved', ylabel='count'>"
      ]
     },
     "execution_count": 304,
     "metadata": {},
     "output_type": "execute_result"
    },
    {
     "data": {
      "image/png": "[encoded data removed]",
      "text/plain": [
       "<Figure size 1440x216 with 1 Axes>"
      ]
     },
     "metadata": {},
     "output_type": "display_data"
    }
   ],
   "source": [
    "sns.countplot(x='Approved', data = credit, hue = 'Married')"
   ]
  },
  {
   "cell_type": "code",
   "execution_count": 305,
   "id": "271ceb56-6ec5-454d-a267-41309dd62fda",
   "metadata": {},
   "outputs": [
    {
     "data": {
      "text/plain": [
       "<AxesSubplot:>"
      ]
     },
     "execution_count": 305,
     "metadata": {},
     "output_type": "execute_result"
    },
    {
     "data": {
      "image/png": "[encoded data removed]",
      "text/plain": [
       "<Figure size 1440x216 with 2 Axes>"
      ]
     },
     "metadata": {},
     "output_type": "display_data"
    }
   ],
   "source": [
    "sns.heatmap(credit.corr(), annot=True, fmt ='.0%')"
   ]
  },
  {
   "cell_type": "code",
   "execution_count": 306,
   "id": "39548dc9-36bf-4c15-b3ef-2a9c23076b6a",
   "metadata": {},
   "outputs": [
    {
     "data": {
      "text/plain": [
       "<AxesSubplot:xlabel='Ethnicity', ylabel='Income'>"
      ]
     },
     "execution_count": 306,
     "metadata": {},
     "output_type": "execute_result"
    },
    {
     "data": {
      "image/png": "[encoded data removed]",
      "text/plain": [
       "<Figure size 1440x216 with 1 Axes>"
      ]
     },
     "metadata": {},
     "output_type": "display_data"
    }
   ],
   "source": [
    "sns.stripplot(x=\"Ethnicity\", y=\"Income\", data=credit)"
   ]
  },
  {
   "cell_type": "code",
   "execution_count": 307,
   "id": "ca7515a2-7f0c-4c5e-a9b1-7b9c753801be",
   "metadata": {},
   "outputs": [
    {
     "data": {
      "text/plain": [
       "<AxesSubplot:xlabel='Ethnicity'>"
      ]
     },
     "execution_count": 307,
     "metadata": {},
     "output_type": "execute_result"
    },
    {
     "data": {
      "image/png": "[encoded data removed]",
      "text/plain": [
       "<Figure size 1440x216 with 1 Axes>"
      ]
     },
     "metadata": {},
     "output_type": "display_data"
    }
   ],
   "source": [
    "credit.head(30).plot(kind='bar', x = 'Ethnicity', y = 'Debt')"
   ]
  },
  {
   "cell_type": "code",
   "execution_count": 308,
   "id": "fe10ef5d-daa6-43ee-a8da-70f9af239d07",
   "metadata": {},
   "outputs": [
    {
     "data": {
      "text/plain": [
       "Gender            0\n",
       "Age               0\n",
       "Debt              0\n",
       "Married           0\n",
       "BankCustomer      0\n",
       "Industry          0\n",
       "Ethnicity         0\n",
       "YearsEmployed     0\n",
       "PriorDefault      0\n",
       "Employed          0\n",
       "CreditScore       0\n",
       "DriversLicense    0\n",
       "Citizen           0\n",
       "ZipCode           0\n",
       "Income            0\n",
       "Approved          0\n",
       "dtype: int64"
      ]
     },
     "execution_count": 308,
     "metadata": {},
     "output_type": "execute_result"
    }
   ],
   "source": [
    "#Finding how many Nans in the dataset\n",
    "credit.isna().sum()"
   ]
  },
  {
   "cell_type": "code",
   "execution_count": 309,
   "id": "a9fcf1b5-2b95-4908-b41c-253de1fe3e11",
   "metadata": {},
   "outputs": [],
   "source": [
    "#Splitting the dataset into features and targets\n",
    "y = credit[['Approved']].values\n",
    "X = credit[['Gender', 'Married', 'Debt', 'Employed', 'Income']].values"
   ]
  },
  {
   "cell_type": "code",
   "execution_count": 310,
   "id": "da8a77a8-6c13-48dd-963d-20ba247ad873",
   "metadata": {},
   "outputs": [],
   "source": [
    "#Splitting the dataset into training and test sets in the ratio 70/30\n",
    "from sklearn.model_selection import train_test_split\n",
    "\n",
    "X_train, X_test, y_train, y_test = train_test_split(X, y, test_size = 0.30, random_state = 10)"
   ]
  },
  {
   "cell_type": "code",
   "execution_count": 311,
   "id": "b4ff4006-e30f-41f8-8c5a-6128bbf52d60",
   "metadata": {},
   "outputs": [],
   "source": [
    "from sklearn.neighbors import KNeighborsClassifier\n",
    "from sklearn.naive_bayes import GaussianNB\n",
    "from sklearn.model_selection import train_test_split\n",
    "from sklearn.metrics import classification_report\n",
    "from sklearn.model_selection import KFold \n",
    "from sklearn.model_selection import StratifiedKFold\n",
    "from sklearn.model_selection import cross_val_score\n",
    "from sklearn.tree import DecisionTreeClassifier\n",
    "from sklearn.ensemble import RandomForestClassifier\n",
    "from sklearn.metrics import accuracy_score\n",
    "from sklearn import svm"
   ]
  },
  {
   "cell_type": "code",
   "execution_count": 349,
   "id": "e4d38289-d4c8-4cc6-84f6-e57bfbbfe8b7",
   "metadata": {},
   "outputs": [
    {
     "data": {
      "text/plain": [
       "KNeighborsClassifier()"
      ]
     },
     "execution_count": 349,
     "metadata": {},
     "output_type": "execute_result"
    }
   ],
   "source": [
    "knn = KNeighborsClassifier(n_neighbors=5)\n",
    "knn.fit(X_train, y_train.ravel())"
   ]
  },
  {
   "cell_type": "code",
   "execution_count": 350,
   "id": "7898bb46-e920-4457-9860-c9f63a91e43a",
   "metadata": {},
   "outputs": [],
   "source": [
    "from sklearn.preprocessing import StandardScaler\n",
    "\n",
    "sc = StandardScaler()\n",
    "X_train = sc.fit_transform(X_train)\n",
    "X_test = sc.transform(X_test)"
   ]
  },
  {
   "cell_type": "code",
   "execution_count": 351,
   "id": "885e03c2-53bf-4453-85cf-c579031d5511",
   "metadata": {},
   "outputs": [
    {
     "name": "stderr",
     "output_type": "stream",
     "text": [
      "C:\\Users\\yaelr\\anaconda3\\lib\\site-packages\\sklearn\\utils\\validation.py:63: DataConversionWarning: A column-vector y was passed when a 1d array was expected. Please change the shape of y to (n_samples, ), for example using ravel().\n",
      "  return f(*args, **kwargs)\n"
     ]
    },
    {
     "data": {
      "text/plain": [
       "LogisticRegression()"
      ]
     },
     "execution_count": 351,
     "metadata": {},
     "output_type": "execute_result"
    }
   ],
   "source": [
    "#Creating a Linear Regression Model\n",
    "from sklearn.linear_model import LogisticRegression\n",
    "\n",
    "lr = LogisticRegression()\n",
    "\n",
    "#Training the Linear Regression model using the training data\n",
    "lr.fit(X_train, y_train)"
   ]
  },
  {
   "cell_type": "code",
   "execution_count": 407,
   "id": "cb86b470-b583-4043-b713-c2c1e7175911",
   "metadata": {},
   "outputs": [
    {
     "name": "stdout",
     "output_type": "stream",
     "text": [
      " Avg accuracy:0.7370919243986255\n"
     ]
    }
   ],
   "source": [
    "#Performing 5-Fold Cross Validation for lr\n",
    "k = 5\n",
    "kf = KFold(n_splits=k)\n",
    "\n",
    "#for other scoring parameters see here https://scikit-learn.org/stable/modules/model_evaluation.html\n",
    "result = cross_val_score(lr, X_train, y_train.ravel(), cv = kf, scoring='accuracy')\n",
    " \n",
    "print(f' Avg accuracy:{result.mean()}')"
   ]
  },
  {
   "cell_type": "code",
   "execution_count": 408,
   "id": "d52fa3d2-9b7f-4fc7-8176-ba1305c96a0d",
   "metadata": {},
   "outputs": [
    {
     "data": {
      "text/plain": [
       "GaussianNB()"
      ]
     },
     "execution_count": 408,
     "metadata": {},
     "output_type": "execute_result"
    }
   ],
   "source": [
    "#Performing Naive-Bayes\n",
    "gnb = GaussianNB()\n",
    "gnb.fit(X_train, y_train.ravel())"
   ]
  },
  {
   "cell_type": "code",
   "execution_count": 409,
   "id": "2bff3bad-48b0-452f-82ec-e95abe749baf",
   "metadata": {},
   "outputs": [
    {
     "name": "stdout",
     "output_type": "stream",
     "text": [
      " Avg accuracy:0.7018041237113402\n"
     ]
    }
   ],
   "source": [
    "#Performing 5-Fold Cross Validation for gnb\n",
    "k = 5\n",
    "kf = KFold(n_splits=k)\n",
    "\n",
    "#for other scoring parameters see here https://scikit-learn.org/stable/modules/model_evaluation.html\n",
    "result = cross_val_score(gnb, X_train, y_train.ravel(), cv = kf, scoring='accuracy')\n",
    " \n",
    "print(f' Avg accuracy:{result.mean()}')"
   ]
  },
  {
   "cell_type": "code",
   "execution_count": 402,
   "id": "48e0e653-af16-416d-afca-4113d2b7c0a3",
   "metadata": {},
   "outputs": [
    {
     "data": {
      "text/plain": [
       "DecisionTreeClassifier()"
      ]
     },
     "execution_count": 402,
     "metadata": {},
     "output_type": "execute_result"
    }
   ],
   "source": [
    "#Perform a decision trees\n",
    "dt = DecisionTreeClassifier()\n",
    "dt.fit(X_train, y_train)"
   ]
  },
  {
   "cell_type": "code",
   "execution_count": 410,
   "id": "e6dec9db-df0c-422e-9e00-7320d0b57add",
   "metadata": {},
   "outputs": [
    {
     "name": "stdout",
     "output_type": "stream",
     "text": [
      " Avg accuracy:0.7079037800687284\n"
     ]
    }
   ],
   "source": [
    "#Performing 5-Fold Cross Validation for dt\n",
    "k = 5\n",
    "kf = KFold(n_splits=k)\n",
    "\n",
    "#for other scoring parameters see here https://scikit-learn.org/stable/modules/model_evaluation.html\n",
    "result = cross_val_score(dt, X_train, y_train.ravel(), cv = kf, scoring='accuracy')\n",
    " \n",
    "print(f' Avg accuracy:{result.mean()}')"
   ]
  },
  {
   "cell_type": "code",
   "execution_count": 320,
   "id": "83e84eef-fe56-4900-ac00-a04c1e949b9b",
   "metadata": {},
   "outputs": [
    {
     "data": {
      "text/plain": [
       "RandomForestClassifier(n_estimators=10, random_state=1)"
      ]
     },
     "execution_count": 320,
     "metadata": {},
     "output_type": "execute_result"
    }
   ],
   "source": [
    "#Perform a random forests\n",
    "rf = RandomForestClassifier(n_estimators=10, criterion='gini',random_state=1)\n",
    "rf.fit(X_train,y_train.ravel())"
   ]
  },
  {
   "cell_type": "code",
   "execution_count": 364,
   "id": "d729daaa-eca1-4403-916a-d96800663013",
   "metadata": {},
   "outputs": [
    {
     "name": "stdout",
     "output_type": "stream",
     "text": [
      " Avg accuracy:0.7286726804123711\n"
     ]
    }
   ],
   "source": [
    "#Performing 5-Fold Cross Validation for rf\n",
    "k = 5\n",
    "kf = KFold(n_splits=k)\n",
    "\n",
    "#for other scoring parameters see here https://scikit-learn.org/stable/modules/model_evaluation.html\n",
    "result = cross_val_score(rf, X_train, y_train.ravel(), cv = kf, scoring='accuracy')\n",
    " \n",
    "print(f' Avg accuracy:{result.mean()}')"
   ]
  },
  {
   "cell_type": "code",
   "execution_count": 322,
   "id": "a157ebc6-9465-4ccb-9bb4-84c6e5eabfdd",
   "metadata": {},
   "outputs": [
    {
     "data": {
      "text/plain": [
       "KNeighborsClassifier()"
      ]
     },
     "execution_count": 322,
     "metadata": {},
     "output_type": "execute_result"
    }
   ],
   "source": [
    "#Perform a K-Nearest Neighbors\n",
    "knn = KNeighborsClassifier(n_neighbors=5)\n",
    "knn.fit(X_train, y_train.ravel())"
   ]
  },
  {
   "cell_type": "code",
   "execution_count": 323,
   "id": "1f6e1410-1874-4989-8793-b886d2cec35c",
   "metadata": {
    "tags": []
   },
   "outputs": [
    {
     "name": "stdout",
     "output_type": "stream",
     "text": [
      " Avg accuracy:0.7059707903780069\n"
     ]
    }
   ],
   "source": [
    "#Performing 5-Fold Cross Validation for knn\n",
    "k = 5\n",
    "kf = KFold(n_splits=k)\n",
    "\n",
    "#for other scoring parameters see here https://scikit-learn.org/stable/modules/model_evaluation.html\n",
    "result = cross_val_score(knn, X_train, y_train.ravel(), cv = kf, scoring='accuracy')\n",
    " \n",
    "print(f' Avg accuracy:{result.mean()}')"
   ]
  },
  {
   "cell_type": "code",
   "execution_count": 324,
   "id": "a5af8d94-65db-413a-aa2f-036173e68209",
   "metadata": {
    "tags": []
   },
   "outputs": [],
   "source": [
    "#Perform a SVM\n",
    "linear = svm.SVC(kernel='linear', C=1, decision_function_shape='ovo').fit(X_train, y_train.ravel())\n",
    "rbf = svm.SVC(kernel='rbf', gamma=1, C=1, decision_function_shape='ovo').fit(X_train, y_train.ravel())\n",
    "poly = svm.SVC(kernel='poly', degree=3, C=1, decision_function_shape='ovo').fit(X_train, y_train.ravel())\n",
    "sig = svm.SVC(kernel='sigmoid', C=1, decision_function_shape='ovo').fit(X_train, y_train.ravel())"
   ]
  },
  {
   "cell_type": "code",
   "execution_count": 325,
   "id": "6d6c2a91-25ae-4fdb-a66d-cb3a1801316a",
   "metadata": {},
   "outputs": [
    {
     "name": "stdout",
     "output_type": "stream",
     "text": [
      " Avg accuracy:0.7454037800687285\n"
     ]
    }
   ],
   "source": [
    "#Performing 5-fold Cross Validation on a Linear SVM\n",
    "result = cross_val_score(linear, X_train, y_train.ravel(), cv = kf, scoring='accuracy')\n",
    "print(f' Avg accuracy:{result.mean()}')"
   ]
  },
  {
   "cell_type": "code",
   "execution_count": 326,
   "id": "3fe9058b-f4c3-4035-88fd-d82cfcb1c8fb",
   "metadata": {},
   "outputs": [
    {
     "name": "stdout",
     "output_type": "stream",
     "text": [
      " Avg accuracy:0.7557345360824742\n"
     ]
    }
   ],
   "source": [
    "result = cross_val_score(rbf, X_train, y_train.ravel(), cv = kf, scoring='accuracy')\n",
    "print(f' Avg accuracy:{result.mean()}')"
   ]
  },
  {
   "cell_type": "code",
   "execution_count": 327,
   "id": "72050643-fad4-4b8e-ba92-1acfa73f1bfd",
   "metadata": {},
   "outputs": [
    {
     "name": "stdout",
     "output_type": "stream",
     "text": [
      " Avg accuracy:0.7494845360824742\n"
     ]
    }
   ],
   "source": [
    "result = cross_val_score(poly, X_train, y_train.ravel(), cv = kf, scoring='accuracy')\n",
    "print(f' Avg accuracy:{result.mean()}')"
   ]
  },
  {
   "cell_type": "code",
   "execution_count": 328,
   "id": "2bc856a1-5cf5-4fed-b7a2-dd8e6a7102cc",
   "metadata": {},
   "outputs": [
    {
     "name": "stdout",
     "output_type": "stream",
     "text": [
      " Avg accuracy:0.6645833333333333\n"
     ]
    }
   ],
   "source": [
    "result = cross_val_score(sig, X_train, y_train.ravel(), cv = kf, scoring='accuracy')\n",
    "print(f' Avg accuracy:{result.mean()}')"
   ]
  },
  {
   "cell_type": "code",
   "execution_count": 329,
   "id": "6e29cec6-f447-4b12-9c35-54fb0c4b3817",
   "metadata": {},
   "outputs": [],
   "source": [
    "#Making predictions on the Test dataset-Logistic Regression\n",
    "y_pred = lr.predict(X_test)"
   ]
  },
  {
   "cell_type": "code",
   "execution_count": 330,
   "id": "564d07b1-270b-418b-84b1-1e71ad60cc0b",
   "metadata": {},
   "outputs": [
    {
     "name": "stdout",
     "output_type": "stream",
     "text": [
      "              precision    recall  f1-score   support\n",
      "\n",
      "           0       0.76      0.74      0.75       113\n",
      "           1       0.70      0.71      0.71        94\n",
      "\n",
      "    accuracy                           0.73       207\n",
      "   macro avg       0.73      0.73      0.73       207\n",
      "weighted avg       0.73      0.73      0.73       207\n",
      "\n"
     ]
    }
   ],
   "source": [
    "#Generate Classification Report- Logistic Regression\n",
    "from sklearn.metrics import classification_report\n",
    "\n",
    "print(classification_report(y_test, y_pred))"
   ]
  },
  {
   "cell_type": "code",
   "execution_count": 331,
   "id": "26e5311c-e34a-41f3-b389-ddbb1757d046",
   "metadata": {},
   "outputs": [],
   "source": [
    "#Making predictions on the Test dataset-Naive-Bayes\n",
    "y_pred_gnb = gnb.predict(X_test)"
   ]
  },
  {
   "cell_type": "code",
   "execution_count": 332,
   "id": "a7d3600b-4533-4314-8f04-dd053cdcdb5c",
   "metadata": {},
   "outputs": [
    {
     "name": "stdout",
     "output_type": "stream",
     "text": [
      "              precision    recall  f1-score   support\n",
      "\n",
      "           0       0.67      0.94      0.78       113\n",
      "           1       0.85      0.44      0.58        94\n",
      "\n",
      "    accuracy                           0.71       207\n",
      "   macro avg       0.76      0.69      0.68       207\n",
      "weighted avg       0.75      0.71      0.69       207\n",
      "\n"
     ]
    }
   ],
   "source": [
    "#Generate Classification Report- Naive-Bayes\n",
    "print(classification_report(y_test, y_pred_gnb))"
   ]
  },
  {
   "cell_type": "code",
   "execution_count": 333,
   "id": "9794e250-c15c-469d-929b-75ec1e5d5b1c",
   "metadata": {},
   "outputs": [],
   "source": [
    "#Making predictions on the Test dataset- Decision Trees\n",
    "y_pred_dt = dt.predict(X_test)"
   ]
  },
  {
   "cell_type": "code",
   "execution_count": 334,
   "id": "b0127e69-c216-433b-9be2-677768adbdb5",
   "metadata": {},
   "outputs": [
    {
     "name": "stdout",
     "output_type": "stream",
     "text": [
      "              precision    recall  f1-score   support\n",
      "\n",
      "           0       0.72      0.75      0.74       113\n",
      "           1       0.69      0.65      0.67        94\n",
      "\n",
      "    accuracy                           0.71       207\n",
      "   macro avg       0.70      0.70      0.70       207\n",
      "weighted avg       0.70      0.71      0.70       207\n",
      "\n"
     ]
    }
   ],
   "source": [
    "#Generate Classification Report- Decision Trees\n",
    "print(classification_report(y_test, y_pred_dt))"
   ]
  },
  {
   "cell_type": "code",
   "execution_count": 335,
   "id": "e6eab69d-4c7d-4c4c-a3eb-c505cfc61094",
   "metadata": {
    "tags": []
   },
   "outputs": [],
   "source": [
    "#Making predictions on the Test dataset- Random Forests\n",
    "y_pred_rf = rf.predict(X_test)"
   ]
  },
  {
   "cell_type": "code",
   "execution_count": 336,
   "id": "1308498d-5dd4-4a68-9238-5f65869d3433",
   "metadata": {},
   "outputs": [
    {
     "name": "stdout",
     "output_type": "stream",
     "text": [
      "              precision    recall  f1-score   support\n",
      "\n",
      "           0       0.74      0.74      0.74       113\n",
      "           1       0.69      0.68      0.68        94\n",
      "\n",
      "    accuracy                           0.71       207\n",
      "   macro avg       0.71      0.71      0.71       207\n",
      "weighted avg       0.71      0.71      0.71       207\n",
      "\n"
     ]
    }
   ],
   "source": [
    "#Generate Classification Report- Random Forests\n",
    "print(classification_report(y_test, y_pred_rf))"
   ]
  },
  {
   "cell_type": "code",
   "execution_count": 337,
   "id": "da2a608c-f681-45d2-a4f6-6453cc454e32",
   "metadata": {},
   "outputs": [],
   "source": [
    "#Making predictions on the Test dataset- KNN\n",
    "y_pred_knn = knn.predict(X_test)"
   ]
  },
  {
   "cell_type": "code",
   "execution_count": 338,
   "id": "02aaf65b-f95e-49d4-b16b-8756c48955a4",
   "metadata": {},
   "outputs": [
    {
     "name": "stdout",
     "output_type": "stream",
     "text": [
      "              precision    recall  f1-score   support\n",
      "\n",
      "           0       0.71      0.77      0.74       113\n",
      "           1       0.69      0.63      0.66        94\n",
      "\n",
      "    accuracy                           0.71       207\n",
      "   macro avg       0.70      0.70      0.70       207\n",
      "weighted avg       0.70      0.71      0.70       207\n",
      "\n"
     ]
    }
   ],
   "source": [
    "#Generate Classification Report- KNN\n",
    "print(classification_report(y_test, y_pred_knn))"
   ]
  },
  {
   "cell_type": "code",
   "execution_count": 339,
   "id": "ac4c6a8e-14dc-4c03-b184-e373732f652f",
   "metadata": {},
   "outputs": [
    {
     "name": "stdout",
     "output_type": "stream",
     "text": [
      "              precision    recall  f1-score   support\n",
      "\n",
      "           0       0.72      0.74      0.73       113\n",
      "           1       0.68      0.66      0.67        94\n",
      "\n",
      "    accuracy                           0.71       207\n",
      "   macro avg       0.70      0.70      0.70       207\n",
      "weighted avg       0.70      0.71      0.70       207\n",
      "\n"
     ]
    }
   ],
   "source": [
    "#Linear SVM Classification Report\n",
    "svm_linear_pred = linear.predict(X_test)\n",
    "print(classification_report(y_test, svm_linear_pred))"
   ]
  },
  {
   "cell_type": "code",
   "execution_count": 340,
   "id": "9a464bb8-980d-4e72-b1f8-c13e7104ecfe",
   "metadata": {},
   "outputs": [
    {
     "name": "stdout",
     "output_type": "stream",
     "text": [
      "              precision    recall  f1-score   support\n",
      "\n",
      "           0       0.75      0.76      0.76       113\n",
      "           1       0.71      0.70      0.71        94\n",
      "\n",
      "    accuracy                           0.73       207\n",
      "   macro avg       0.73      0.73      0.73       207\n",
      "weighted avg       0.73      0.73      0.73       207\n",
      "\n"
     ]
    }
   ],
   "source": [
    "#Poly SVM Classification Report\n",
    "svm_poly_pred = poly.predict(X_test)\n",
    "print(classification_report(y_test, svm_poly_pred))"
   ]
  },
  {
   "cell_type": "code",
   "execution_count": 341,
   "id": "0b58d0db-a668-4930-9eb6-493fbfca0d40",
   "metadata": {},
   "outputs": [
    {
     "name": "stdout",
     "output_type": "stream",
     "text": [
      "              precision    recall  f1-score   support\n",
      "\n",
      "           0       0.70      0.73      0.72       113\n",
      "           1       0.66      0.62      0.64        94\n",
      "\n",
      "    accuracy                           0.68       207\n",
      "   macro avg       0.68      0.68      0.68       207\n",
      "weighted avg       0.68      0.68      0.68       207\n",
      "\n"
     ]
    }
   ],
   "source": [
    "#Sig SVM Classification Report\n",
    "svm_sig_pred = sig.predict(X_test)\n",
    "print(classification_report(y_test, svm_sig_pred))"
   ]
  },
  {
   "cell_type": "code",
   "execution_count": 342,
   "id": "7ab98107-ec3e-4124-9dcf-481efde9a0f2",
   "metadata": {},
   "outputs": [
    {
     "name": "stdout",
     "output_type": "stream",
     "text": [
      "              precision    recall  f1-score   support\n",
      "\n",
      "           0       0.74      0.76      0.75       113\n",
      "           1       0.70      0.67      0.68        94\n",
      "\n",
      "    accuracy                           0.72       207\n",
      "   macro avg       0.72      0.72      0.72       207\n",
      "weighted avg       0.72      0.72      0.72       207\n",
      "\n"
     ]
    }
   ],
   "source": [
    "##RBF SVM Classification Report\n",
    "svm_rbf_pred = rbf.predict(X_test)\n",
    "print(classification_report(y_test, svm_rbf_pred))"
   ]
  },
  {
   "cell_type": "code",
   "execution_count": 343,
   "id": "751eabfd-a3e6-45b3-9e7f-f0211135773c",
   "metadata": {},
   "outputs": [
    {
     "data": {
      "image/png": "[encoded data removed]",
      "text/plain": [
       "<Figure size 1440x216 with 1 Axes>"
      ]
     },
     "metadata": {},
     "output_type": "display_data"
    }
   ],
   "source": [
    "import numpy as np \n",
    "import matplotlib.pyplot as plt \n",
    "  \n",
    "X   = ['KNN','GNB','LOG-R','SVM_POLY', 'RF', 'DT']\n",
    "\n",
    "#Collect this information from the classification reports and store them in lists\n",
    "accuracy  = [0.71, 0.71, 0.73, 0.73, 0.72, 0.71]\n",
    "precision = [0.70, 0.75, 0.73, 0.73, 0.72, 0.71]\n",
    "recall    = [0.71, 0.71, 0.73, 0.73, 0.72, 0.71]\n",
    "f1        = [0.70, 0.69, 0.73, 0.73, 0.72, 0.71]\n",
    "\n",
    "#here we use np.arange to get the number of items to place on the x-axis \n",
    "X_axis = np.arange(len(X))\n",
    "\n",
    "#the spacing between each bar each bar\n",
    "spacing= 0.15\n",
    "\n",
    "#setting the size of the graph\n",
    "plt.rcParams[\"figure.figsize\"] = (20,3)\n",
    "  \n",
    "#below we are plotting 4 bars for each label on the x-axis with the following syntax\n",
    "#plt.bar(star_pos_for_each_bar, list_of_values, width_of each_bar, label_name_for each bar)\n",
    "plt.bar(X_axis, accuracy, 0.25, label = 'Accuracy')\n",
    "plt.bar(X_axis + spacing, precision, 0.25, label = 'Precision')\n",
    "plt.bar(X_axis + spacing *2, recall, 0.25, label = 'Recall')\n",
    "plt.bar(X_axis + spacing *3, f1, 0.25, label = 'F1')\n",
    "\n",
    "#setting the range of values for the X axis\n",
    "plt.xticks(X_axis, X)\n",
    "plt.xlabel(\"Model\")\n",
    "plt.ylabel(\"Weighted Avg\")\n",
    "plt.title(\"Model vs Weighted Avg Of Various Metrics\")\n",
    "plt.legend(loc='upper right')\n",
    "\n",
    "plt.show()"
   ]
  }
 ],
 "metadata": {
  "kernelspec": {
   "display_name": "Python 3 (ipykernel)",
   "language": "python",
   "name": "python3"
  },
  "language_info": {
   "codemirror_mode": {
    "name": "ipython",
    "version": 3
   },
   "file_extension": ".py",
   "mimetype": "text/x-python",
   "name": "python",
   "nbconvert_exporter": "python",
   "pygments_lexer": "ipython3",
   "version": "3.9.7"
  }
 },
 "nbformat": 4,
 "nbformat_minor": 5
}
